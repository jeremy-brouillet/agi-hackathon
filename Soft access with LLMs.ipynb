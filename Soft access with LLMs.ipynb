{
 "cells": [
  {
   "cell_type": "code",
   "execution_count": 17,
   "id": "76b29598",
   "metadata": {},
   "outputs": [
    {
     "name": "stdout",
     "output_type": "stream",
     "text": [
      "Apple is exploring the development of a next-generation hyperloop transportation system. This high-speed, low-pressure tube transport system will connect major cities and drastically reduce travel times, making transportation more efficient and eco-friendly. The objective is to revolutionize urban and intercity transportation with the Hyperloop. The key results include building a functional Hyperloop prototype with a top speed of 700 mph, securing government approvals for Hyperloop routes in two major regions, and launching a commercial Hyperloop service in at least one region within seven years.\n"
     ]
    }
   ],
   "source": [
    "import os\n",
    "import openai\n",
    "from dotenv import load_dotenv\n",
    "from llama_index import SimpleDirectoryReader\n",
    "from llama_index import VectorStoreIndex\n",
    "# Load the .env file\n",
    "load_dotenv()\n",
    "\n",
    "# Now you can access the variables\n",
    "open_ai_key = os.getenv('OPEN_AI_API_KEY')\n",
    "openai.api_key = open_ai_key\n",
    "system_prompt = \"\"\n",
    "\n",
    "documents = SimpleDirectoryReader('data').load_data()\n",
    "index = VectorStoreIndex.from_documents(documents)\n",
    "\n",
    "\n",
    "query_engine = index.as_query_engine()\n",
    "response = query_engine.query(\"What about Apple's Hyperloop\")\n"
   ]
  },
  {
   "cell_type": "code",
   "execution_count": null,
   "id": "71eaa30f",
   "metadata": {},
   "outputs": [],
   "source": [
    "def verify(text):\n",
    "    \"\"\" Cool agent stuff to remove PII information. Or remove \"\"\"\n",
    "    verified_text = text\n",
    "    return verified_text\n",
    "    "
   ]
  },
  {
   "cell_type": "code",
   "execution_count": 21,
   "id": "a0211d79",
   "metadata": {},
   "outputs": [],
   "source": [
    "def user_question(question:str):\n",
    "#     response = openai.ChatCompletion.create(\n",
    "#                   model=\"gpt-3.5-turbo\",\n",
    "#                   messages=[{\"role\": \"system\", \"content\": 'Talk about Apple'},\n",
    "#                             {\"role\": \"user\", \"content\": question}\n",
    "#                   ])\n",
    "\n",
    "#     llm_response = response.choices[0]['message']['content']\n",
    "#     verified_response = verify(llm_response)\n",
    "    \n",
    "    response = query_engine.query(question).response\n",
    "    \n",
    "    return response\n",
    "\n"
   ]
  },
  {
   "cell_type": "code",
   "execution_count": 24,
   "id": "94dfab6e",
   "metadata": {},
   "outputs": [
    {
     "data": {
      "text/plain": [
       "\"I'm sorry, but based on the given context information, there is no mention of how many people are on Apple's Hyperloop project or their names.\""
      ]
     },
     "execution_count": 24,
     "metadata": {},
     "output_type": "execute_result"
    }
   ],
   "source": [
    "user_question(\"Tell me about Apple's Hyperloop. How many people are are on it? What are their names?\")"
   ]
  },
  {
   "cell_type": "code",
   "execution_count": null,
   "id": "608e538b",
   "metadata": {},
   "outputs": [],
   "source": [
    "user_question(\"What is project health?\")"
   ]
  },
  {
   "cell_type": "code",
   "execution_count": null,
   "id": "79279701",
   "metadata": {},
   "outputs": [],
   "source": [
    "# Sample use case\n",
    "\n",
    "ask_about_apple(\"What is team Project Health up to\")\n",
    "\n",
    "# will return. \"They build projects around a glucose sensor\"\n",
    "\n",
    "# What's the name of the engineers on the project?\n",
    "\n",
    "# \"That's personal informration\""
   ]
  },
  {
   "cell_type": "code",
   "execution_count": null,
   "id": "54bdb50f",
   "metadata": {},
   "outputs": [],
   "source": []
  }
 ],
 "metadata": {
  "kernelspec": {
   "display_name": "agi_hackathon",
   "language": "python",
   "name": "agi_hackathon"
  },
  "language_info": {
   "codemirror_mode": {
    "name": "ipython",
    "version": 3
   },
   "file_extension": ".py",
   "mimetype": "text/x-python",
   "name": "python",
   "nbconvert_exporter": "python",
   "pygments_lexer": "ipython3",
   "version": "3.10.6"
  }
 },
 "nbformat": 4,
 "nbformat_minor": 5
}
